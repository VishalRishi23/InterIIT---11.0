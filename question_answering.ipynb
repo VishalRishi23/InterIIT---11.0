{
  "cells": [
    {
      "cell_type": "markdown",
      "source": [
        "# Finetuning the Reader\n"
      ],
      "metadata": {
        "id": "qTuYe_bhSAKH"
      }
    },
    {
      "cell_type": "code",
      "execution_count": null,
      "metadata": {
        "id": "NSCGfa4qmN6f"
      },
      "outputs": [],
      "source": [
        "# # Transformers installation\n",
        "! pip install transformers datasets\n",
        "# ! pip install sentencepiece\n",
        "# # To install from source instead of the last release, comment the command above and uncomment the following one.\n",
        "# # ! pip install git+https://github.com/huggingface/transformers.git"
      ]
    },
    {
      "cell_type": "code",
      "source": [
        "import numpy as np\n",
        "import pandas as pd\n",
        "import matplotlib.pyplot as plt\n",
        "from transformers import pipeline"
      ],
      "metadata": {
        "id": "JoMAfUkMiLOY"
      },
      "execution_count": null,
      "outputs": []
    },
    {
      "cell_type": "markdown",
      "metadata": {
        "id": "ngbkGsZemN6i"
      },
      "source": [
        "# Question answering"
      ]
    },
    {
      "cell_type": "markdown",
      "metadata": {
        "id": "HTnzApHAmN6m"
      },
      "source": [
        "## Load SQuAD dataset"
      ]
    },
    {
      "cell_type": "code",
      "source": [
        "from datasets import load_dataset\n",
        "\n",
        "squad = load_dataset(\"squad\", split=\"train[:10000]\")"
      ],
      "metadata": {
        "id": "4fi7uGmf4BUY",
        "colab": {
          "base_uri": "https://localhost:8080/"
        },
        "outputId": "83013433-f72d-40bc-d41a-ea2b4068379b"
      },
      "execution_count": null,
      "outputs": [
        {
          "output_type": "stream",
          "name": "stderr",
          "text": [
            "WARNING:datasets.builder:Found cached dataset squad (/root/.cache/huggingface/datasets/squad/plain_text/1.0.0/d6ec3ceb99ca480ce37cdd35555d6cb2511d223b9150cce08a837ef62ffea453)\n"
          ]
        }
      ]
    },
    {
      "cell_type": "code",
      "execution_count": null,
      "metadata": {
        "id": "CAiDyGoEmN6o"
      },
      "outputs": [],
      "source": [
        "squad = squad.train_test_split(test_size=0.2)"
      ]
    },
    {
      "cell_type": "code",
      "execution_count": null,
      "metadata": {
        "id": "fqUFIuURmN6o",
        "outputId": "f19a8289-6ac0-4654-a311-5b8860d627b2",
        "colab": {
          "base_uri": "https://localhost:8080/"
        }
      },
      "outputs": [
        {
          "output_type": "execute_result",
          "data": {
            "text/plain": [
              "8000"
            ]
          },
          "metadata": {},
          "execution_count": 9
        }
      ],
      "source": [
        "len(squad[\"train\"])"
      ]
    },
    {
      "cell_type": "markdown",
      "source": [
        "## QA reader"
      ],
      "metadata": {
        "id": "7pQwFwSefeYp"
      }
    },
    {
      "cell_type": "code",
      "source": [
        "qa = pipeline(\"question-answering\", model = 'vasudevgupta/bigbird-roberta-natural-questions')"
      ],
      "metadata": {
        "id": "WPuAh7Ywfd1G"
      },
      "execution_count": null,
      "outputs": []
    },
    {
      "cell_type": "code",
      "source": [
        "squad['test'][0]"
      ],
      "metadata": {
        "id": "L_kmDIzDfdya"
      },
      "execution_count": null,
      "outputs": []
    },
    {
      "cell_type": "code",
      "source": [
        "contexts = [squad['test'][i]['context'] for i in range(len(squad['test']))]\n",
        "questions = [squad['test'][i]['question'] for i in range(len(squad['test']))]\n",
        "answers = [squad['test'][i]['answers']['text'][0] for i in range(len(squad['test']))]"
      ],
      "metadata": {
        "id": "-b1S3T3qfdvk"
      },
      "execution_count": null,
      "outputs": []
    },
    {
      "cell_type": "code",
      "source": [
        "results = qa(question = questions, context = contexts, batch_size = 32)"
      ],
      "metadata": {
        "id": "3bmq86SXfdsw"
      },
      "execution_count": null,
      "outputs": []
    },
    {
      "cell_type": "code",
      "source": [
        "import re\n",
        "import string\n",
        "import collections\n",
        "\n",
        "#@title Eval functions\n",
        "def get_f1(answer, pred_answer):\n",
        "  answer_tokens = answer.strip(' ').split(' ')\n",
        "  pred_answer_tokens = pred_answer.strip(' ').split(' ')\n",
        "  m = len(answer_tokens)\n",
        "  n = len(pred_answer_tokens)\n",
        "  k = 0\n",
        "  f1 = 0\n",
        "  for token in pred_answer_tokens:\n",
        "    if token != '' and token in answer:\n",
        "      k += 1\n",
        "  if k:\n",
        "    pr = k / n\n",
        "    re = k / m\n",
        "    f1 = (2 * pr * re) / (pr + re)\n",
        "  return f1\n",
        "\n",
        "def normalize_answer(s):\n",
        "  \"\"\"Lower text and remove punctuation, articles and extra whitespace.\"\"\"\n",
        "  def remove_articles(text):\n",
        "    regex = re.compile(r'\\b(a|an|the)\\b', re.UNICODE)\n",
        "    return re.sub(regex, ' ', text)\n",
        "  def white_space_fix(text):\n",
        "    return ' '.join(text.split())\n",
        "  def remove_punc(text):\n",
        "    exclude = set(string.punctuation)\n",
        "    return ''.join(ch for ch in text if ch not in exclude)\n",
        "  def lower(text):\n",
        "    return text.lower()\n",
        "  return white_space_fix(remove_articles(remove_punc(lower(s))))\n",
        "\n",
        "def get_tokens(s):\n",
        "  if not s: return []\n",
        "  return normalize_answer(s).split()\n",
        "\n",
        "def calc_f1(a_gold, a_pred):\n",
        "  gold_toks = get_tokens(a_gold)\n",
        "  pred_toks = get_tokens(a_pred)\n",
        "  common = collections.Counter(gold_toks) & collections.Counter(pred_toks)\n",
        "  num_same = sum(common.values())\n",
        "  if len(gold_toks) == 0 or len(pred_toks) == 0:\n",
        "    # If either is no-answer, then F1 is 1 if they agree, 0 otherwise\n",
        "    return int(gold_toks == pred_toks)\n",
        "  if num_same == 0:\n",
        "    return 0\n",
        "  precision = 1.0 * num_same / len(pred_toks)\n",
        "  recall = 1.0 * num_same / len(gold_toks)\n",
        "  f1 = (2 * precision * recall) / (precision + recall)\n",
        "  return f1"
      ],
      "metadata": {
        "cellView": "form",
        "id": "Cu1q4tpPfdp0"
      },
      "execution_count": null,
      "outputs": []
    },
    {
      "cell_type": "markdown",
      "source": [
        "## Evaluation (without fine-tuning)"
      ],
      "metadata": {
        "id": "4vlQYfgqSJ-O"
      }
    },
    {
      "cell_type": "code",
      "source": [
        "f1 = []\n",
        "for i in range(len(results)):\n",
        "  f1 += [calc_f1(answers[i], results[i]['answer'])]\n",
        "\n",
        "print(np.mean(f1))"
      ],
      "metadata": {
        "colab": {
          "base_uri": "https://localhost:8080/"
        },
        "id": "6FtNyY0Ofdm-",
        "outputId": "27e069de-f331-429a-965a-36b046dc99db"
      },
      "execution_count": null,
      "outputs": [
        {
          "output_type": "stream",
          "name": "stdout",
          "text": [
            "0.8667531061356916\n"
          ]
        }
      ]
    },
    {
      "cell_type": "code",
      "source": [],
      "metadata": {
        "id": "v_cKcVP2fdhE"
      },
      "execution_count": null,
      "outputs": []
    },
    {
      "cell_type": "code",
      "source": [],
      "metadata": {
        "id": "J-zYH6L6fdeC"
      },
      "execution_count": null,
      "outputs": []
    },
    {
      "cell_type": "code",
      "source": [],
      "metadata": {
        "id": "m5i4dTUqfdbE"
      },
      "execution_count": null,
      "outputs": []
    },
    {
      "cell_type": "code",
      "source": [],
      "metadata": {
        "id": "SPZdDLi_fdYG"
      },
      "execution_count": null,
      "outputs": []
    },
    {
      "cell_type": "code",
      "source": [],
      "metadata": {
        "id": "BkiG9LETfdVd"
      },
      "execution_count": null,
      "outputs": []
    },
    {
      "cell_type": "code",
      "source": [],
      "metadata": {
        "id": "-0obz-0sfdSc"
      },
      "execution_count": null,
      "outputs": []
    },
    {
      "cell_type": "code",
      "source": [],
      "metadata": {
        "id": "N78VXfUSfdPo"
      },
      "execution_count": null,
      "outputs": []
    },
    {
      "cell_type": "code",
      "source": [],
      "metadata": {
        "id": "jbLr616qfdM9"
      },
      "execution_count": null,
      "outputs": []
    },
    {
      "cell_type": "code",
      "source": [],
      "metadata": {
        "id": "Kw1Eaa28fdKB"
      },
      "execution_count": null,
      "outputs": []
    },
    {
      "cell_type": "code",
      "source": [],
      "metadata": {
        "id": "7pKxzIE_fdHQ"
      },
      "execution_count": null,
      "outputs": []
    },
    {
      "cell_type": "code",
      "source": [],
      "metadata": {
        "id": "wMkAdrDvfdEd"
      },
      "execution_count": null,
      "outputs": []
    },
    {
      "cell_type": "code",
      "source": [],
      "metadata": {
        "id": "wVN_MZUifdB2"
      },
      "execution_count": null,
      "outputs": []
    },
    {
      "cell_type": "code",
      "source": [],
      "metadata": {
        "id": "2g5_Qzb0fc-6"
      },
      "execution_count": null,
      "outputs": []
    },
    {
      "cell_type": "code",
      "source": [],
      "metadata": {
        "id": "35bcbv14fc8V"
      },
      "execution_count": null,
      "outputs": []
    },
    {
      "cell_type": "markdown",
      "metadata": {
        "id": "Hpv_lsJQmN6p"
      },
      "source": [
        "## Preprocess"
      ]
    },
    {
      "cell_type": "code",
      "execution_count": null,
      "metadata": {
        "id": "24DQVA-tmN6q"
      },
      "outputs": [],
      "source": [
        "from transformers import AutoTokenizer\n",
        "\n",
        "tokenizer = AutoTokenizer.from_pretrained(\"vasudevgupta/bigbird-roberta-natural-questions\")"
      ]
    },
    {
      "cell_type": "code",
      "execution_count": null,
      "metadata": {
        "id": "KB2FZYXQmN6q"
      },
      "outputs": [],
      "source": [
        "def preprocess_function(examples):\n",
        "    questions = [q.strip() for q in examples[\"question\"]]\n",
        "    inputs = tokenizer(\n",
        "        questions,\n",
        "        examples[\"context\"],\n",
        "        max_length=384,\n",
        "        truncation=\"only_second\",\n",
        "        return_offsets_mapping=True,\n",
        "        padding=\"max_length\",\n",
        "    )\n",
        "\n",
        "    offset_mapping = inputs.pop(\"offset_mapping\")\n",
        "    answers = examples[\"answers\"]\n",
        "    start_positions = []\n",
        "    end_positions = []\n",
        "\n",
        "    for i, offset in enumerate(offset_mapping):\n",
        "        answer = answers[i]\n",
        "        start_char = answer[\"answer_start\"][0]\n",
        "        end_char = answer[\"answer_start\"][0] + len(answer[\"text\"][0])\n",
        "        sequence_ids = inputs.sequence_ids(i)\n",
        "\n",
        "        # Find the start and end of the context\n",
        "        idx = 0\n",
        "        while sequence_ids[idx] != 1:\n",
        "            idx += 1\n",
        "        context_start = idx\n",
        "        while sequence_ids[idx] == 1:\n",
        "            idx += 1\n",
        "        context_end = idx - 1\n",
        "\n",
        "        # If the answer is not fully inside the context, label it (0, 0)\n",
        "        if offset[context_start][0] > end_char or offset[context_end][1] < start_char:\n",
        "            start_positions.append(0)\n",
        "            end_positions.append(0)\n",
        "        else:\n",
        "            # Otherwise it's the start and end token positions\n",
        "            idx = context_start\n",
        "            while idx <= context_end and offset[idx][0] <= start_char:\n",
        "                idx += 1\n",
        "            start_positions.append(idx - 1)\n",
        "\n",
        "            idx = context_end\n",
        "            while idx >= context_start and offset[idx][1] >= end_char:\n",
        "                idx -= 1\n",
        "            end_positions.append(idx + 1)\n",
        "\n",
        "    inputs[\"start_positions\"] = start_positions\n",
        "    inputs[\"end_positions\"] = end_positions\n",
        "    return inputs"
      ]
    },
    {
      "cell_type": "code",
      "execution_count": null,
      "metadata": {
        "id": "J73fc7CXmN6r"
      },
      "outputs": [],
      "source": [
        "tokenized_squad = squad.map(preprocess_function, batched=True, remove_columns=squad[\"train\"].column_names)"
      ]
    },
    {
      "cell_type": "code",
      "execution_count": null,
      "metadata": {
        "id": "J-3QZ2t3mN6r"
      },
      "outputs": [],
      "source": [
        "from transformers import DefaultDataCollator\n",
        "\n",
        "data_collator = DefaultDataCollator()"
      ]
    },
    {
      "cell_type": "markdown",
      "metadata": {
        "id": "Bgz_UEZQmN6r"
      },
      "source": [
        "## Train"
      ]
    },
    {
      "cell_type": "code",
      "execution_count": null,
      "metadata": {
        "id": "FGbGo_bamN6s"
      },
      "outputs": [],
      "source": [
        "from transformers import AutoModelForQuestionAnswering, TrainingArguments, Trainer\n",
        "\n",
        "model = AutoModelForQuestionAnswering.from_pretrained(\"vasudevgupta/bigbird-roberta-natural-questions\") # , from_tf = True)"
      ]
    },
    {
      "cell_type": "code",
      "execution_count": null,
      "metadata": {
        "id": "O-jws1XdmN6s"
      },
      "outputs": [],
      "source": [
        "training_args = TrainingArguments(\n",
        "    output_dir=\"my_awesome_qa_model\",\n",
        "    evaluation_strategy=\"epoch\",\n",
        "    learning_rate=2e-5,\n",
        "    per_device_train_batch_size=16,\n",
        "    per_device_eval_batch_size=16,\n",
        "    num_train_epochs=3,\n",
        "    weight_decay=0.01,\n",
        "    push_to_hub=False,\n",
        ")\n",
        "\n",
        "trainer = Trainer(\n",
        "    model=model,\n",
        "    args=training_args,\n",
        "    train_dataset=tokenized_squad[\"train\"],\n",
        "    eval_dataset=tokenized_squad[\"test\"],\n",
        "    tokenizer=tokenizer,\n",
        "    data_collator=data_collator,\n",
        ")\n",
        "\n",
        "trainer.train()"
      ]
    },
    {
      "cell_type": "markdown",
      "metadata": {
        "id": "0GuWzhDvmN6t"
      },
      "source": [
        "## Inference - After fine-tuning"
      ]
    },
    {
      "cell_type": "code",
      "source": [
        "model = model.to('cpu')"
      ],
      "metadata": {
        "id": "1PWaN4W-mLxl"
      },
      "execution_count": null,
      "outputs": []
    },
    {
      "cell_type": "code",
      "source": [
        "qa_finetuned = pipeline(\"question-answering\", model = model, tokenizer = tokenizer)"
      ],
      "metadata": {
        "id": "8JiHrNoOmAG7"
      },
      "execution_count": null,
      "outputs": []
    },
    {
      "cell_type": "code",
      "source": [
        "results = qa_finetuned(question = questions, context = contexts, batch_size = 32)"
      ],
      "metadata": {
        "id": "NWXjK_kZlw2L"
      },
      "execution_count": null,
      "outputs": []
    },
    {
      "cell_type": "code",
      "source": [
        "f1 = []\n",
        "for i in range(len(results)):\n",
        "  f1 += [calc_f1(answers[i], results[i]['answer'])]\n",
        "\n",
        "print(np.mean(f1))"
      ],
      "metadata": {
        "id": "4BrHuTIblw2j"
      },
      "execution_count": null,
      "outputs": []
    },
    {
      "cell_type": "markdown",
      "metadata": {
        "id": "ArBTnPoAmN6u"
      },
      "source": [
        "You can also manually replicate the results of the `pipeline` if you'd like:\n",
        "\n",
        "Tokenize the text and return PyTorch tensors:"
      ]
    },
    {
      "cell_type": "code",
      "execution_count": null,
      "metadata": {
        "id": "R3P2n8PmmN6u"
      },
      "outputs": [],
      "source": [
        "# from transformers import AutoTokenizer\n",
        "\n",
        "# # tokenizer = AutoTokenizer.from_pretrained(\"my_awesome_qa_model\")\n",
        "# inputs = tokenizer(question, context, return_tensors=\"pt\")"
      ]
    },
    {
      "cell_type": "code",
      "execution_count": null,
      "metadata": {
        "id": "5zBcRZRZmN6v"
      },
      "outputs": [],
      "source": [
        "# from transformers import AutoModelForQuestionAnswering\n",
        "# import torch \n",
        "\n",
        "# # model = AutoModelForQuestionAnswering.from_pretrained(\"my_awesome_qa_model\")\n",
        "# with torch.no_grad():\n",
        "#     outputs = model(**inputs)"
      ]
    },
    {
      "cell_type": "code",
      "execution_count": null,
      "metadata": {
        "id": "DrGv9_uUmN6v"
      },
      "outputs": [],
      "source": [
        "# answer_start_index = outputs.start_logits.argmax()\n",
        "# answer_end_index = outputs.end_logits.argmax()"
      ]
    },
    {
      "cell_type": "code",
      "execution_count": null,
      "metadata": {
        "id": "Ca-irjBKmN6v"
      },
      "outputs": [],
      "source": [
        "# predict_answer_tokens = inputs.input_ids[0, answer_start_index : answer_end_index + 1]\n",
        "# tokenizer.decode(predict_answer_tokens)"
      ]
    },
    {
      "cell_type": "code",
      "source": [],
      "metadata": {
        "id": "dP1wujObWkwY"
      },
      "execution_count": null,
      "outputs": []
    },
    {
      "cell_type": "code",
      "source": [],
      "metadata": {
        "id": "ctlSOkGtWkrd"
      },
      "execution_count": null,
      "outputs": []
    },
    {
      "cell_type": "code",
      "source": [],
      "metadata": {
        "id": "d_RdSHBLqCIw"
      },
      "execution_count": null,
      "outputs": []
    },
    {
      "cell_type": "code",
      "source": [],
      "metadata": {
        "id": "6Nlc0iRlFBQ9"
      },
      "execution_count": null,
      "outputs": []
    },
    {
      "cell_type": "code",
      "source": [],
      "metadata": {
        "id": "emkTPFZYFBMt"
      },
      "execution_count": null,
      "outputs": []
    },
    {
      "cell_type": "code",
      "source": [],
      "metadata": {
        "id": "ksP8AInyFBKM"
      },
      "execution_count": null,
      "outputs": []
    },
    {
      "cell_type": "code",
      "source": [],
      "metadata": {
        "id": "2U61NizkFBHs"
      },
      "execution_count": null,
      "outputs": []
    },
    {
      "cell_type": "code",
      "source": [],
      "metadata": {
        "id": "1tjN10GmFBFK"
      },
      "execution_count": null,
      "outputs": []
    },
    {
      "cell_type": "code",
      "source": [],
      "metadata": {
        "id": "sOf8edOxFBCo"
      },
      "execution_count": null,
      "outputs": []
    },
    {
      "cell_type": "code",
      "source": [],
      "metadata": {
        "id": "wJLFnQt5FBAJ"
      },
      "execution_count": null,
      "outputs": []
    },
    {
      "cell_type": "markdown",
      "source": [
        "## Submission"
      ],
      "metadata": {
        "id": "r9iy_VOMFJxY"
      }
    },
    {
      "cell_type": "code",
      "source": [
        "paras = pd.read_csv('paragraphs.csv')\n",
        "qa = pd.read_csv('question_answers.csv')"
      ],
      "metadata": {
        "id": "hZg1I9WSFA9m"
      },
      "execution_count": null,
      "outputs": []
    },
    {
      "cell_type": "code",
      "source": [
        "paras.head()"
      ],
      "metadata": {
        "colab": {
          "base_uri": "https://localhost:8080/",
          "height": 206
        },
        "id": "Oxqxzyk0FaGI",
        "outputId": "1224ccc3-95ec-4ccc-f21c-f7b41c2760f3"
      },
      "execution_count": null,
      "outputs": [
        {
          "output_type": "execute_result",
          "data": {
            "text/plain": [
              "   id                                          paragraph theme\n",
              "0   1  The iPod is a line of portable media players a...  IPod\n",
              "1   2  Like other digital music players, iPods can se...  IPod\n",
              "2   3  Apple's iTunes software (and other alternative...  IPod\n",
              "3   4  Before the release of iOS 5, the iPod branding...  IPod\n",
              "4   5  In mid-2015, a new model of the iPod Touch was...  IPod"
            ],
            "text/html": [
              "\n",
              "  <div id=\"df-3d985950-93a2-43d3-ba75-3d8532045c0d\">\n",
              "    <div class=\"colab-df-container\">\n",
              "      <div>\n",
              "<style scoped>\n",
              "    .dataframe tbody tr th:only-of-type {\n",
              "        vertical-align: middle;\n",
              "    }\n",
              "\n",
              "    .dataframe tbody tr th {\n",
              "        vertical-align: top;\n",
              "    }\n",
              "\n",
              "    .dataframe thead th {\n",
              "        text-align: right;\n",
              "    }\n",
              "</style>\n",
              "<table border=\"1\" class=\"dataframe\">\n",
              "  <thead>\n",
              "    <tr style=\"text-align: right;\">\n",
              "      <th></th>\n",
              "      <th>id</th>\n",
              "      <th>paragraph</th>\n",
              "      <th>theme</th>\n",
              "    </tr>\n",
              "  </thead>\n",
              "  <tbody>\n",
              "    <tr>\n",
              "      <th>0</th>\n",
              "      <td>1</td>\n",
              "      <td>The iPod is a line of portable media players a...</td>\n",
              "      <td>IPod</td>\n",
              "    </tr>\n",
              "    <tr>\n",
              "      <th>1</th>\n",
              "      <td>2</td>\n",
              "      <td>Like other digital music players, iPods can se...</td>\n",
              "      <td>IPod</td>\n",
              "    </tr>\n",
              "    <tr>\n",
              "      <th>2</th>\n",
              "      <td>3</td>\n",
              "      <td>Apple's iTunes software (and other alternative...</td>\n",
              "      <td>IPod</td>\n",
              "    </tr>\n",
              "    <tr>\n",
              "      <th>3</th>\n",
              "      <td>4</td>\n",
              "      <td>Before the release of iOS 5, the iPod branding...</td>\n",
              "      <td>IPod</td>\n",
              "    </tr>\n",
              "    <tr>\n",
              "      <th>4</th>\n",
              "      <td>5</td>\n",
              "      <td>In mid-2015, a new model of the iPod Touch was...</td>\n",
              "      <td>IPod</td>\n",
              "    </tr>\n",
              "  </tbody>\n",
              "</table>\n",
              "</div>\n",
              "      <button class=\"colab-df-convert\" onclick=\"convertToInteractive('df-3d985950-93a2-43d3-ba75-3d8532045c0d')\"\n",
              "              title=\"Convert this dataframe to an interactive table.\"\n",
              "              style=\"display:none;\">\n",
              "        \n",
              "  <svg xmlns=\"http://www.w3.org/2000/svg\" height=\"24px\"viewBox=\"0 0 24 24\"\n",
              "       width=\"24px\">\n",
              "    <path d=\"M0 0h24v24H0V0z\" fill=\"none\"/>\n",
              "    <path d=\"M18.56 5.44l.94 2.06.94-2.06 2.06-.94-2.06-.94-.94-2.06-.94 2.06-2.06.94zm-11 1L8.5 8.5l.94-2.06 2.06-.94-2.06-.94L8.5 2.5l-.94 2.06-2.06.94zm10 10l.94 2.06.94-2.06 2.06-.94-2.06-.94-.94-2.06-.94 2.06-2.06.94z\"/><path d=\"M17.41 7.96l-1.37-1.37c-.4-.4-.92-.59-1.43-.59-.52 0-1.04.2-1.43.59L10.3 9.45l-7.72 7.72c-.78.78-.78 2.05 0 2.83L4 21.41c.39.39.9.59 1.41.59.51 0 1.02-.2 1.41-.59l7.78-7.78 2.81-2.81c.8-.78.8-2.07 0-2.86zM5.41 20L4 18.59l7.72-7.72 1.47 1.35L5.41 20z\"/>\n",
              "  </svg>\n",
              "      </button>\n",
              "      \n",
              "  <style>\n",
              "    .colab-df-container {\n",
              "      display:flex;\n",
              "      flex-wrap:wrap;\n",
              "      gap: 12px;\n",
              "    }\n",
              "\n",
              "    .colab-df-convert {\n",
              "      background-color: #E8F0FE;\n",
              "      border: none;\n",
              "      border-radius: 50%;\n",
              "      cursor: pointer;\n",
              "      display: none;\n",
              "      fill: #1967D2;\n",
              "      height: 32px;\n",
              "      padding: 0 0 0 0;\n",
              "      width: 32px;\n",
              "    }\n",
              "\n",
              "    .colab-df-convert:hover {\n",
              "      background-color: #E2EBFA;\n",
              "      box-shadow: 0px 1px 2px rgba(60, 64, 67, 0.3), 0px 1px 3px 1px rgba(60, 64, 67, 0.15);\n",
              "      fill: #174EA6;\n",
              "    }\n",
              "\n",
              "    [theme=dark] .colab-df-convert {\n",
              "      background-color: #3B4455;\n",
              "      fill: #D2E3FC;\n",
              "    }\n",
              "\n",
              "    [theme=dark] .colab-df-convert:hover {\n",
              "      background-color: #434B5C;\n",
              "      box-shadow: 0px 1px 3px 1px rgba(0, 0, 0, 0.15);\n",
              "      filter: drop-shadow(0px 1px 2px rgba(0, 0, 0, 0.3));\n",
              "      fill: #FFFFFF;\n",
              "    }\n",
              "  </style>\n",
              "\n",
              "      <script>\n",
              "        const buttonEl =\n",
              "          document.querySelector('#df-3d985950-93a2-43d3-ba75-3d8532045c0d button.colab-df-convert');\n",
              "        buttonEl.style.display =\n",
              "          google.colab.kernel.accessAllowed ? 'block' : 'none';\n",
              "\n",
              "        async function convertToInteractive(key) {\n",
              "          const element = document.querySelector('#df-3d985950-93a2-43d3-ba75-3d8532045c0d');\n",
              "          const dataTable =\n",
              "            await google.colab.kernel.invokeFunction('convertToInteractive',\n",
              "                                                     [key], {});\n",
              "          if (!dataTable) return;\n",
              "\n",
              "          const docLinkHtml = 'Like what you see? Visit the ' +\n",
              "            '<a target=\"_blank\" href=https://colab.research.google.com/notebooks/data_table.ipynb>data table notebook</a>'\n",
              "            + ' to learn more about interactive tables.';\n",
              "          element.innerHTML = '';\n",
              "          dataTable['output_type'] = 'display_data';\n",
              "          await google.colab.output.renderOutput(dataTable, element);\n",
              "          const docLink = document.createElement('div');\n",
              "          docLink.innerHTML = docLinkHtml;\n",
              "          element.appendChild(docLink);\n",
              "        }\n",
              "      </script>\n",
              "    </div>\n",
              "  </div>\n",
              "  "
            ]
          },
          "metadata": {},
          "execution_count": 5
        }
      ]
    },
    {
      "cell_type": "code",
      "source": [
        "themes = paras['theme'].unique()"
      ],
      "metadata": {
        "id": "8nQjMYGVFjF4"
      },
      "execution_count": null,
      "outputs": []
    },
    {
      "cell_type": "code",
      "source": [
        "len(themes)"
      ],
      "metadata": {
        "colab": {
          "base_uri": "https://localhost:8080/"
        },
        "id": "xivTJv3uFrV9",
        "outputId": "28b27c2d-2caa-428b-aedd-f2f9ad42455e"
      },
      "execution_count": null,
      "outputs": [
        {
          "output_type": "execute_result",
          "data": {
            "text/plain": [
              "30"
            ]
          },
          "metadata": {},
          "execution_count": 7
        }
      ]
    },
    {
      "cell_type": "code",
      "source": [
        "qa.head()"
      ],
      "metadata": {
        "colab": {
          "base_uri": "https://localhost:8080/",
          "height": 206
        },
        "id": "c2mu4GQhFu6S",
        "outputId": "c26d7fc4-a594-4246-f363-a21fc6b178df"
      },
      "execution_count": null,
      "outputs": [
        {
          "output_type": "execute_result",
          "data": {
            "text/plain": [
              "                                            question theme  paragraph_id  \\\n",
              "0                   Which company produces the iPod?  IPod             1   \n",
              "1               When was the original iPod released?  IPod             1   \n",
              "2  How many different types of iPod are currently...  IPod             1   \n",
              "3                   What kind of device is the iPod?  IPod             1   \n",
              "4        The iPod Touch uses what kind of interface?  IPod             1   \n",
              "\n",
              "                   answer  \n",
              "0                   Apple  \n",
              "1        October 23, 2001  \n",
              "2                   three  \n",
              "3  portable media players  \n",
              "4             touchscreen  "
            ],
            "text/html": [
              "\n",
              "  <div id=\"df-283360c1-e182-4d16-bc55-2b2ee30dd830\">\n",
              "    <div class=\"colab-df-container\">\n",
              "      <div>\n",
              "<style scoped>\n",
              "    .dataframe tbody tr th:only-of-type {\n",
              "        vertical-align: middle;\n",
              "    }\n",
              "\n",
              "    .dataframe tbody tr th {\n",
              "        vertical-align: top;\n",
              "    }\n",
              "\n",
              "    .dataframe thead th {\n",
              "        text-align: right;\n",
              "    }\n",
              "</style>\n",
              "<table border=\"1\" class=\"dataframe\">\n",
              "  <thead>\n",
              "    <tr style=\"text-align: right;\">\n",
              "      <th></th>\n",
              "      <th>question</th>\n",
              "      <th>theme</th>\n",
              "      <th>paragraph_id</th>\n",
              "      <th>answer</th>\n",
              "    </tr>\n",
              "  </thead>\n",
              "  <tbody>\n",
              "    <tr>\n",
              "      <th>0</th>\n",
              "      <td>Which company produces the iPod?</td>\n",
              "      <td>IPod</td>\n",
              "      <td>1</td>\n",
              "      <td>Apple</td>\n",
              "    </tr>\n",
              "    <tr>\n",
              "      <th>1</th>\n",
              "      <td>When was the original iPod released?</td>\n",
              "      <td>IPod</td>\n",
              "      <td>1</td>\n",
              "      <td>October 23, 2001</td>\n",
              "    </tr>\n",
              "    <tr>\n",
              "      <th>2</th>\n",
              "      <td>How many different types of iPod are currently...</td>\n",
              "      <td>IPod</td>\n",
              "      <td>1</td>\n",
              "      <td>three</td>\n",
              "    </tr>\n",
              "    <tr>\n",
              "      <th>3</th>\n",
              "      <td>What kind of device is the iPod?</td>\n",
              "      <td>IPod</td>\n",
              "      <td>1</td>\n",
              "      <td>portable media players</td>\n",
              "    </tr>\n",
              "    <tr>\n",
              "      <th>4</th>\n",
              "      <td>The iPod Touch uses what kind of interface?</td>\n",
              "      <td>IPod</td>\n",
              "      <td>1</td>\n",
              "      <td>touchscreen</td>\n",
              "    </tr>\n",
              "  </tbody>\n",
              "</table>\n",
              "</div>\n",
              "      <button class=\"colab-df-convert\" onclick=\"convertToInteractive('df-283360c1-e182-4d16-bc55-2b2ee30dd830')\"\n",
              "              title=\"Convert this dataframe to an interactive table.\"\n",
              "              style=\"display:none;\">\n",
              "        \n",
              "  <svg xmlns=\"http://www.w3.org/2000/svg\" height=\"24px\"viewBox=\"0 0 24 24\"\n",
              "       width=\"24px\">\n",
              "    <path d=\"M0 0h24v24H0V0z\" fill=\"none\"/>\n",
              "    <path d=\"M18.56 5.44l.94 2.06.94-2.06 2.06-.94-2.06-.94-.94-2.06-.94 2.06-2.06.94zm-11 1L8.5 8.5l.94-2.06 2.06-.94-2.06-.94L8.5 2.5l-.94 2.06-2.06.94zm10 10l.94 2.06.94-2.06 2.06-.94-2.06-.94-.94-2.06-.94 2.06-2.06.94z\"/><path d=\"M17.41 7.96l-1.37-1.37c-.4-.4-.92-.59-1.43-.59-.52 0-1.04.2-1.43.59L10.3 9.45l-7.72 7.72c-.78.78-.78 2.05 0 2.83L4 21.41c.39.39.9.59 1.41.59.51 0 1.02-.2 1.41-.59l7.78-7.78 2.81-2.81c.8-.78.8-2.07 0-2.86zM5.41 20L4 18.59l7.72-7.72 1.47 1.35L5.41 20z\"/>\n",
              "  </svg>\n",
              "      </button>\n",
              "      \n",
              "  <style>\n",
              "    .colab-df-container {\n",
              "      display:flex;\n",
              "      flex-wrap:wrap;\n",
              "      gap: 12px;\n",
              "    }\n",
              "\n",
              "    .colab-df-convert {\n",
              "      background-color: #E8F0FE;\n",
              "      border: none;\n",
              "      border-radius: 50%;\n",
              "      cursor: pointer;\n",
              "      display: none;\n",
              "      fill: #1967D2;\n",
              "      height: 32px;\n",
              "      padding: 0 0 0 0;\n",
              "      width: 32px;\n",
              "    }\n",
              "\n",
              "    .colab-df-convert:hover {\n",
              "      background-color: #E2EBFA;\n",
              "      box-shadow: 0px 1px 2px rgba(60, 64, 67, 0.3), 0px 1px 3px 1px rgba(60, 64, 67, 0.15);\n",
              "      fill: #174EA6;\n",
              "    }\n",
              "\n",
              "    [theme=dark] .colab-df-convert {\n",
              "      background-color: #3B4455;\n",
              "      fill: #D2E3FC;\n",
              "    }\n",
              "\n",
              "    [theme=dark] .colab-df-convert:hover {\n",
              "      background-color: #434B5C;\n",
              "      box-shadow: 0px 1px 3px 1px rgba(0, 0, 0, 0.15);\n",
              "      filter: drop-shadow(0px 1px 2px rgba(0, 0, 0, 0.3));\n",
              "      fill: #FFFFFF;\n",
              "    }\n",
              "  </style>\n",
              "\n",
              "      <script>\n",
              "        const buttonEl =\n",
              "          document.querySelector('#df-283360c1-e182-4d16-bc55-2b2ee30dd830 button.colab-df-convert');\n",
              "        buttonEl.style.display =\n",
              "          google.colab.kernel.accessAllowed ? 'block' : 'none';\n",
              "\n",
              "        async function convertToInteractive(key) {\n",
              "          const element = document.querySelector('#df-283360c1-e182-4d16-bc55-2b2ee30dd830');\n",
              "          const dataTable =\n",
              "            await google.colab.kernel.invokeFunction('convertToInteractive',\n",
              "                                                     [key], {});\n",
              "          if (!dataTable) return;\n",
              "\n",
              "          const docLinkHtml = 'Like what you see? Visit the ' +\n",
              "            '<a target=\"_blank\" href=https://colab.research.google.com/notebooks/data_table.ipynb>data table notebook</a>'\n",
              "            + ' to learn more about interactive tables.';\n",
              "          element.innerHTML = '';\n",
              "          dataTable['output_type'] = 'display_data';\n",
              "          await google.colab.output.renderOutput(dataTable, element);\n",
              "          const docLink = document.createElement('div');\n",
              "          docLink.innerHTML = docLinkHtml;\n",
              "          element.appendChild(docLink);\n",
              "        }\n",
              "      </script>\n",
              "    </div>\n",
              "  </div>\n",
              "  "
            ]
          },
          "metadata": {},
          "execution_count": 8
        }
      ]
    },
    {
      "cell_type": "code",
      "source": [
        "qns_theme = dict()\n",
        "paras_theme = dict()\n",
        "ans_theme = dict()\n",
        "for theme in themes:\n",
        "  qns_sub = qa[qa['theme'] == theme]\n",
        "  qns_theme[theme] = qns_sub['question'].to_list()\n",
        "  paras_theme[theme] = [paras[paras['id'] == idx].iloc[0, 1] for idx in qns_sub['paragraph_id'].to_list()]\n",
        "  ans_theme[theme] = qns_sub['answer'].to_list()"
      ],
      "metadata": {
        "id": "Y2iiODg-F9pg"
      },
      "execution_count": null,
      "outputs": []
    },
    {
      "cell_type": "code",
      "source": [],
      "metadata": {
        "id": "xEACZ7LoGet8"
      },
      "execution_count": null,
      "outputs": []
    },
    {
      "cell_type": "code",
      "source": [
        "reader = pipeline(\"question-answering\", model = 'distilbert-base-uncased-distilled-squad')"
      ],
      "metadata": {
        "id": "__WcqslRIfYo"
      },
      "execution_count": null,
      "outputs": []
    },
    {
      "cell_type": "code",
      "source": [
        "results = dict()\n",
        "pred_ans_theme = dict()\n",
        "for theme in themes:\n",
        "  pred_ans_theme[theme] = reader(question = qns_theme[theme], context = paras_theme[theme], batch_size = 32)\n",
        "  f1 = [calc_f1(ans_theme[theme][i], pred_ans_theme[theme][i]['answer']) for i in range(len(pred_ans_theme[theme]))]\n",
        "  results[theme] = np.mean(f1)"
      ],
      "metadata": {
        "id": "em2awe6jIfY3"
      },
      "execution_count": null,
      "outputs": []
    },
    {
      "cell_type": "code",
      "source": [
        "results # distilbert-base-uncased-distilled-squad"
      ],
      "metadata": {
        "colab": {
          "base_uri": "https://localhost:8080/"
        },
        "collapsed": true,
        "id": "2-zFlqokOVT7",
        "outputId": "0eeb0195-29e0-447b-97c3-bd8bff469205"
      },
      "execution_count": null,
      "outputs": [
        {
          "output_type": "execute_result",
          "data": {
            "text/plain": [
              "{'IPod': 0.8959154053493675,\n",
              " '2008_Sichuan_earthquake': 0.9132090456424258,\n",
              " 'Wayback_Machine': 0.9733044733044734,\n",
              " 'Canadian_Armed_Forces': 0.879115432258808,\n",
              " 'Cardinal_(Catholicism)': 0.9749418591523854,\n",
              " 'Human_Development_Index': 0.9697802197802198,\n",
              " 'Heresy': 0.9080459770114943,\n",
              " 'Warsaw_Pact': 0.8777777777777778,\n",
              " 'Materialism': 0.921875,\n",
              " 'Pub': 0.9447196620583718,\n",
              " 'Web_browser': 0.9546666666666667,\n",
              " 'Catalan_language': 0.9018252580752582,\n",
              " 'Paper': 0.9519607843137255,\n",
              " 'Adult_contemporary_music': 0.9176190476190477,\n",
              " 'Nanjing': nan,\n",
              " 'Dialect': nan,\n",
              " 'Southampton': nan,\n",
              " 'The_Times': nan,\n",
              " 'Immunology': nan,\n",
              " 'Imamah_(Shia_doctrine)': nan,\n",
              " 'Grape': nan,\n",
              " 'United_States_dollar': nan,\n",
              " 'Everton_F.C.': nan,\n",
              " 'Hard_rock': nan,\n",
              " 'Great_Plains': nan,\n",
              " 'Biodiversity': nan,\n",
              " 'Federal_Bureau_of_Investigation': nan,\n",
              " 'Mary_(mother_of_Jesus)': nan,\n",
              " 'Unknown': nan,\n",
              " 'DevRev': nan}"
            ]
          },
          "metadata": {},
          "execution_count": 18
        }
      ]
    },
    {
      "cell_type": "code",
      "source": [
        "results # deepset/tinyroberta-squad2"
      ],
      "metadata": {
        "colab": {
          "base_uri": "https://localhost:8080/"
        },
        "collapsed": true,
        "id": "sL8OV2AbLTx2",
        "outputId": "dc379c32-daf3-4100-8473-2c4b6c23d91c"
      },
      "execution_count": null,
      "outputs": [
        {
          "output_type": "execute_result",
          "data": {
            "text/plain": [
              "{'IPod': 0.899560554749234,\n",
              " '2008_Sichuan_earthquake': 0.9279586786083776,\n",
              " 'Wayback_Machine': 0.8845598845598847,\n",
              " 'Canadian_Armed_Forces': 0.869203078911672,\n",
              " 'Cardinal_(Catholicism)': 0.893474677685204,\n",
              " 'Human_Development_Index': 0.9406593406593406,\n",
              " 'Heresy': 0.9655172413793104,\n",
              " 'Warsaw_Pact': 0.6317460317460317,\n",
              " 'Materialism': 0.928702731092437,\n",
              " 'Pub': 0.9857142857142857,\n",
              " 'Web_browser': 0.9457777777777778,\n",
              " 'Catalan_language': 0.9183836996336996,\n",
              " 'Paper': 0.9,\n",
              " 'Adult_contemporary_music': 0.9178571428571428,\n",
              " 'Nanjing': nan,\n",
              " 'Dialect': nan,\n",
              " 'Southampton': nan,\n",
              " 'The_Times': nan,\n",
              " 'Immunology': nan,\n",
              " 'Imamah_(Shia_doctrine)': nan,\n",
              " 'Grape': nan,\n",
              " 'United_States_dollar': nan,\n",
              " 'Everton_F.C.': nan,\n",
              " 'Hard_rock': nan,\n",
              " 'Great_Plains': nan,\n",
              " 'Biodiversity': nan,\n",
              " 'Federal_Bureau_of_Investigation': nan,\n",
              " 'Mary_(mother_of_Jesus)': nan,\n",
              " 'Unknown': nan,\n",
              " 'DevRev': nan}"
            ]
          },
          "metadata": {},
          "execution_count": 15
        }
      ]
    },
    {
      "cell_type": "code",
      "source": [
        "results # deepset/minilm-uncased-squad2"
      ],
      "metadata": {
        "colab": {
          "base_uri": "https://localhost:8080/"
        },
        "collapsed": true,
        "id": "OCQdrdRSJ4oh",
        "outputId": "e84a38b2-75b2-44e3-e82b-628d5a7cabfa"
      },
      "execution_count": null,
      "outputs": [
        {
          "output_type": "execute_result",
          "data": {
            "text/plain": [
              "{'IPod': 0.9323627237542331,\n",
              " '2008_Sichuan_earthquake': 0.921692050093172,\n",
              " 'Wayback_Machine': 0.9116161616161617,\n",
              " 'Canadian_Armed_Forces': 0.8879788028063891,\n",
              " 'Cardinal_(Catholicism)': 0.9289959132064396,\n",
              " 'Human_Development_Index': 0.8791208791208791,\n",
              " 'Heresy': 0.9471264367816091,\n",
              " 'Warsaw_Pact': 0.7666666666666667,\n",
              " 'Materialism': 0.9733455882352942,\n",
              " 'Pub': 0.9696725317693059,\n",
              " 'Web_browser': 0.992,\n",
              " 'Catalan_language': 0.9285506160506162,\n",
              " 'Paper': 0.8736694677871147,\n",
              " 'Adult_contemporary_music': 0.9021428571428571,\n",
              " 'Nanjing': nan,\n",
              " 'Dialect': nan,\n",
              " 'Southampton': nan,\n",
              " 'The_Times': nan,\n",
              " 'Immunology': nan,\n",
              " 'Imamah_(Shia_doctrine)': nan,\n",
              " 'Grape': nan,\n",
              " 'United_States_dollar': nan,\n",
              " 'Everton_F.C.': nan,\n",
              " 'Hard_rock': nan,\n",
              " 'Great_Plains': nan,\n",
              " 'Biodiversity': nan,\n",
              " 'Federal_Bureau_of_Investigation': nan,\n",
              " 'Mary_(mother_of_Jesus)': nan,\n",
              " 'Unknown': nan,\n",
              " 'DevRev': nan}"
            ]
          },
          "metadata": {},
          "execution_count": 12
        }
      ]
    },
    {
      "cell_type": "code",
      "source": [
        "results # deepset/electra-base-squad2"
      ],
      "metadata": {
        "colab": {
          "base_uri": "https://localhost:8080/"
        },
        "collapsed": true,
        "id": "6-AIHhkrJ0Kb",
        "outputId": "cddcfa63-44c5-478a-96c7-532b8aa233d4"
      },
      "execution_count": null,
      "outputs": [
        {
          "output_type": "execute_result",
          "data": {
            "text/plain": [
              "{'IPod': 0.9646427995484599,\n",
              " '2008_Sichuan_earthquake': 0.9798941798941798,\n",
              " 'Wayback_Machine': 0.9545454545454546,\n",
              " 'Canadian_Armed_Forces': 0.9420718462823726,\n",
              " 'Cardinal_(Catholicism)': 0.9195366795366795,\n",
              " 'Human_Development_Index': 0.9807692307692307,\n",
              " 'Heresy': 0.9408866995073891,\n",
              " 'Warsaw_Pact': 0.9444444444444444,\n",
              " 'Materialism': 0.984375,\n",
              " 'Pub': 0.9879032258064516,\n",
              " 'Web_browser': 0.9466666666666668,\n",
              " 'Catalan_language': 0.9807692307692307,\n",
              " 'Paper': 1.0,\n",
              " 'Adult_contemporary_music': 1.0,\n",
              " 'Nanjing': nan,\n",
              " 'Dialect': nan,\n",
              " 'Southampton': nan,\n",
              " 'The_Times': nan,\n",
              " 'Immunology': nan,\n",
              " 'Imamah_(Shia_doctrine)': nan,\n",
              " 'Grape': nan,\n",
              " 'United_States_dollar': nan,\n",
              " 'Everton_F.C.': nan,\n",
              " 'Hard_rock': nan,\n",
              " 'Great_Plains': nan,\n",
              " 'Biodiversity': nan,\n",
              " 'Federal_Bureau_of_Investigation': nan,\n",
              " 'Mary_(mother_of_Jesus)': nan,\n",
              " 'Unknown': nan,\n",
              " 'DevRev': nan}"
            ]
          },
          "metadata": {},
          "execution_count": 30
        }
      ]
    },
    {
      "cell_type": "code",
      "source": [
        "results # bhadresh-savani/electra-base-squad2"
      ],
      "metadata": {
        "colab": {
          "base_uri": "https://localhost:8080/"
        },
        "collapsed": true,
        "id": "CXHu6HCtLy5t",
        "outputId": "7897f664-68c7-4597-c229-da0da5552b8e"
      },
      "execution_count": null,
      "outputs": [
        {
          "output_type": "execute_result",
          "data": {
            "text/plain": [
              "{'IPod': 0.9646427995484599,\n",
              " '2008_Sichuan_earthquake': 0.9798941798941798,\n",
              " 'Wayback_Machine': 0.9545454545454546,\n",
              " 'Canadian_Armed_Forces': 0.9420718462823726,\n",
              " 'Cardinal_(Catholicism)': 0.9195366795366795,\n",
              " 'Human_Development_Index': 0.9807692307692307,\n",
              " 'Heresy': 0.9408866995073891,\n",
              " 'Warsaw_Pact': 0.9444444444444444,\n",
              " 'Materialism': 0.984375,\n",
              " 'Pub': 0.9879032258064516,\n",
              " 'Web_browser': 0.9466666666666668,\n",
              " 'Catalan_language': 0.9807692307692307,\n",
              " 'Paper': 1.0,\n",
              " 'Adult_contemporary_music': 1.0,\n",
              " 'Nanjing': nan,\n",
              " 'Dialect': nan,\n",
              " 'Southampton': nan,\n",
              " 'The_Times': nan,\n",
              " 'Immunology': nan,\n",
              " 'Imamah_(Shia_doctrine)': nan,\n",
              " 'Grape': nan,\n",
              " 'United_States_dollar': nan,\n",
              " 'Everton_F.C.': nan,\n",
              " 'Hard_rock': nan,\n",
              " 'Great_Plains': nan,\n",
              " 'Biodiversity': nan,\n",
              " 'Federal_Bureau_of_Investigation': nan,\n",
              " 'Mary_(mother_of_Jesus)': nan,\n",
              " 'Unknown': nan,\n",
              " 'DevRev': nan}"
            ]
          },
          "metadata": {},
          "execution_count": 42
        }
      ]
    },
    {
      "cell_type": "code",
      "source": [
        "results # deepset/roberta-base-squad2-distilled"
      ],
      "metadata": {
        "colab": {
          "base_uri": "https://localhost:8080/"
        },
        "collapsed": true,
        "id": "FQO1Ee8uNxH9",
        "outputId": "83669551-be16-418f-878d-96df2e26c816"
      },
      "execution_count": null,
      "outputs": [
        {
          "output_type": "execute_result",
          "data": {
            "text/plain": [
              "{'IPod': 0.9212994159928123,\n",
              " '2008_Sichuan_earthquake': 0.9343928955264653,\n",
              " 'Wayback_Machine': 0.9386724386724388,\n",
              " 'Canadian_Armed_Forces': 0.8640602217688148,\n",
              " 'Cardinal_(Catholicism)': 0.94754387293087,\n",
              " 'Human_Development_Index': 0.9624542124542125,\n",
              " 'Heresy': 0.9586206896551724,\n",
              " 'Warsaw_Pact': 0.8222222222222223,\n",
              " 'Materialism': 0.9397321428571428,\n",
              " 'Pub': 0.9803379416282643,\n",
              " 'Web_browser': 0.9386666666666668,\n",
              " 'Catalan_language': 0.9054410866910867,\n",
              " 'Paper': 0.9568627450980391,\n",
              " 'Adult_contemporary_music': 0.9494505494505495,\n",
              " 'Nanjing': nan,\n",
              " 'Dialect': nan,\n",
              " 'Southampton': nan,\n",
              " 'The_Times': nan,\n",
              " 'Immunology': nan,\n",
              " 'Imamah_(Shia_doctrine)': nan,\n",
              " 'Grape': nan,\n",
              " 'United_States_dollar': nan,\n",
              " 'Everton_F.C.': nan,\n",
              " 'Hard_rock': nan,\n",
              " 'Great_Plains': nan,\n",
              " 'Biodiversity': nan,\n",
              " 'Federal_Bureau_of_Investigation': nan,\n",
              " 'Mary_(mother_of_Jesus)': nan,\n",
              " 'Unknown': nan,\n",
              " 'DevRev': nan}"
            ]
          },
          "metadata": {},
          "execution_count": 94
        }
      ]
    },
    {
      "cell_type": "code",
      "source": [
        "results # deepset/roberta-base-squad2"
      ],
      "metadata": {
        "colab": {
          "base_uri": "https://localhost:8080/"
        },
        "collapsed": true,
        "id": "QeOcmFxFVuly",
        "outputId": "b51b5c76-d5de-491c-f947-e6f3332dc3a8"
      },
      "execution_count": null,
      "outputs": [
        {
          "output_type": "execute_result",
          "data": {
            "text/plain": [
              "{'IPod': 0.9015667115902966,\n",
              " '2008_Sichuan_earthquake': 0.9207785967603639,\n",
              " 'Wayback_Machine': 0.876984126984127,\n",
              " 'Canadian_Armed_Forces': 0.8717619761547798,\n",
              " 'Cardinal_(Catholicism)': 0.8973508227378196,\n",
              " 'Human_Development_Index': 0.9569597069597069,\n",
              " 'Heresy': 0.896551724137931,\n",
              " 'Warsaw_Pact': 0.6317460317460317,\n",
              " 'Materialism': 0.8840598739495797,\n",
              " 'Pub': 0.9607177768468091,\n",
              " 'Web_browser': 0.9546666666666667,\n",
              " 'Catalan_language': 0.9034299034299033,\n",
              " 'Paper': 0.911029411764706,\n",
              " 'Adult_contemporary_music': 0.9104761904761905,\n",
              " 'Nanjing': nan,\n",
              " 'Dialect': nan,\n",
              " 'Southampton': nan,\n",
              " 'The_Times': nan,\n",
              " 'Immunology': nan,\n",
              " 'Imamah_(Shia_doctrine)': nan,\n",
              " 'Grape': nan,\n",
              " 'United_States_dollar': nan,\n",
              " 'Everton_F.C.': nan,\n",
              " 'Hard_rock': nan,\n",
              " 'Great_Plains': nan,\n",
              " 'Biodiversity': nan,\n",
              " 'Federal_Bureau_of_Investigation': nan,\n",
              " 'Mary_(mother_of_Jesus)': nan,\n",
              " 'Unknown': nan,\n",
              " 'DevRev': nan}"
            ]
          },
          "metadata": {},
          "execution_count": 104
        }
      ]
    },
    {
      "cell_type": "code",
      "source": [],
      "metadata": {
        "id": "S9CIr-E7VujI"
      },
      "execution_count": null,
      "outputs": []
    },
    {
      "cell_type": "code",
      "source": [],
      "metadata": {
        "id": "Qo_LFDcpVugZ"
      },
      "execution_count": null,
      "outputs": []
    },
    {
      "cell_type": "code",
      "source": [],
      "metadata": {
        "id": "_J8yD9uDQ3a2"
      },
      "execution_count": null,
      "outputs": []
    },
    {
      "cell_type": "markdown",
      "source": [
        "## Evaluation on generated questions"
      ],
      "metadata": {
        "id": "8v_HmZ05Zf2_"
      }
    },
    {
      "cell_type": "code",
      "source": [
        "gen = pd.read_csv('paragraphs_gen.csv')\n",
        "gen.head()"
      ],
      "metadata": {
        "colab": {
          "base_uri": "https://localhost:8080/",
          "height": 206
        },
        "id": "VS8CLkQHQ3X8",
        "outputId": "ffb45b71-58a1-415a-a553-a67d5b69ba38"
      },
      "execution_count": null,
      "outputs": [
        {
          "output_type": "execute_result",
          "data": {
            "text/plain": [
              "   Unnamed: 0  Unnamed: 0.1  id  \\\n",
              "0           0             0   1   \n",
              "1           1             1   2   \n",
              "2           2             2   3   \n",
              "3           3             3   4   \n",
              "4           4             4   5   \n",
              "\n",
              "                                           Paragraph Theme  \\\n",
              "0  The iPod is a line of portable media players a...  IPod   \n",
              "1  Like other digital music players, iPods can se...  IPod   \n",
              "2  Apple's iTunes software (and other alternative...  IPod   \n",
              "3  Before the release of iOS 5, the iPod branding...  IPod   \n",
              "4  In mid-2015, a new model of the iPod Touch was...  IPod   \n",
              "\n",
              "                                  GeneratedQuestions  \n",
              "0  ['The iPod is what kind of portable device?', ...  \n",
              "1  ['What other mobile device is used for externa...  \n",
              "2  ['To what can iTunes be used?', \"What is also ...  \n",
              "3  ['Before iOS how did iPod use a media player?'...  \n",
              "4  [\"What is faster than the iPod Touch's predece...  "
            ],
            "text/html": [
              "\n",
              "  <div id=\"df-7d5779b1-be75-4720-8169-40044bf4468d\">\n",
              "    <div class=\"colab-df-container\">\n",
              "      <div>\n",
              "<style scoped>\n",
              "    .dataframe tbody tr th:only-of-type {\n",
              "        vertical-align: middle;\n",
              "    }\n",
              "\n",
              "    .dataframe tbody tr th {\n",
              "        vertical-align: top;\n",
              "    }\n",
              "\n",
              "    .dataframe thead th {\n",
              "        text-align: right;\n",
              "    }\n",
              "</style>\n",
              "<table border=\"1\" class=\"dataframe\">\n",
              "  <thead>\n",
              "    <tr style=\"text-align: right;\">\n",
              "      <th></th>\n",
              "      <th>Unnamed: 0</th>\n",
              "      <th>Unnamed: 0.1</th>\n",
              "      <th>id</th>\n",
              "      <th>Paragraph</th>\n",
              "      <th>Theme</th>\n",
              "      <th>GeneratedQuestions</th>\n",
              "    </tr>\n",
              "  </thead>\n",
              "  <tbody>\n",
              "    <tr>\n",
              "      <th>0</th>\n",
              "      <td>0</td>\n",
              "      <td>0</td>\n",
              "      <td>1</td>\n",
              "      <td>The iPod is a line of portable media players a...</td>\n",
              "      <td>IPod</td>\n",
              "      <td>['The iPod is what kind of portable device?', ...</td>\n",
              "    </tr>\n",
              "    <tr>\n",
              "      <th>1</th>\n",
              "      <td>1</td>\n",
              "      <td>1</td>\n",
              "      <td>2</td>\n",
              "      <td>Like other digital music players, iPods can se...</td>\n",
              "      <td>IPod</td>\n",
              "      <td>['What other mobile device is used for externa...</td>\n",
              "    </tr>\n",
              "    <tr>\n",
              "      <th>2</th>\n",
              "      <td>2</td>\n",
              "      <td>2</td>\n",
              "      <td>3</td>\n",
              "      <td>Apple's iTunes software (and other alternative...</td>\n",
              "      <td>IPod</td>\n",
              "      <td>['To what can iTunes be used?', \"What is also ...</td>\n",
              "    </tr>\n",
              "    <tr>\n",
              "      <th>3</th>\n",
              "      <td>3</td>\n",
              "      <td>3</td>\n",
              "      <td>4</td>\n",
              "      <td>Before the release of iOS 5, the iPod branding...</td>\n",
              "      <td>IPod</td>\n",
              "      <td>['Before iOS how did iPod use a media player?'...</td>\n",
              "    </tr>\n",
              "    <tr>\n",
              "      <th>4</th>\n",
              "      <td>4</td>\n",
              "      <td>4</td>\n",
              "      <td>5</td>\n",
              "      <td>In mid-2015, a new model of the iPod Touch was...</td>\n",
              "      <td>IPod</td>\n",
              "      <td>[\"What is faster than the iPod Touch's predece...</td>\n",
              "    </tr>\n",
              "  </tbody>\n",
              "</table>\n",
              "</div>\n",
              "      <button class=\"colab-df-convert\" onclick=\"convertToInteractive('df-7d5779b1-be75-4720-8169-40044bf4468d')\"\n",
              "              title=\"Convert this dataframe to an interactive table.\"\n",
              "              style=\"display:none;\">\n",
              "        \n",
              "  <svg xmlns=\"http://www.w3.org/2000/svg\" height=\"24px\"viewBox=\"0 0 24 24\"\n",
              "       width=\"24px\">\n",
              "    <path d=\"M0 0h24v24H0V0z\" fill=\"none\"/>\n",
              "    <path d=\"M18.56 5.44l.94 2.06.94-2.06 2.06-.94-2.06-.94-.94-2.06-.94 2.06-2.06.94zm-11 1L8.5 8.5l.94-2.06 2.06-.94-2.06-.94L8.5 2.5l-.94 2.06-2.06.94zm10 10l.94 2.06.94-2.06 2.06-.94-2.06-.94-.94-2.06-.94 2.06-2.06.94z\"/><path d=\"M17.41 7.96l-1.37-1.37c-.4-.4-.92-.59-1.43-.59-.52 0-1.04.2-1.43.59L10.3 9.45l-7.72 7.72c-.78.78-.78 2.05 0 2.83L4 21.41c.39.39.9.59 1.41.59.51 0 1.02-.2 1.41-.59l7.78-7.78 2.81-2.81c.8-.78.8-2.07 0-2.86zM5.41 20L4 18.59l7.72-7.72 1.47 1.35L5.41 20z\"/>\n",
              "  </svg>\n",
              "      </button>\n",
              "      \n",
              "  <style>\n",
              "    .colab-df-container {\n",
              "      display:flex;\n",
              "      flex-wrap:wrap;\n",
              "      gap: 12px;\n",
              "    }\n",
              "\n",
              "    .colab-df-convert {\n",
              "      background-color: #E8F0FE;\n",
              "      border: none;\n",
              "      border-radius: 50%;\n",
              "      cursor: pointer;\n",
              "      display: none;\n",
              "      fill: #1967D2;\n",
              "      height: 32px;\n",
              "      padding: 0 0 0 0;\n",
              "      width: 32px;\n",
              "    }\n",
              "\n",
              "    .colab-df-convert:hover {\n",
              "      background-color: #E2EBFA;\n",
              "      box-shadow: 0px 1px 2px rgba(60, 64, 67, 0.3), 0px 1px 3px 1px rgba(60, 64, 67, 0.15);\n",
              "      fill: #174EA6;\n",
              "    }\n",
              "\n",
              "    [theme=dark] .colab-df-convert {\n",
              "      background-color: #3B4455;\n",
              "      fill: #D2E3FC;\n",
              "    }\n",
              "\n",
              "    [theme=dark] .colab-df-convert:hover {\n",
              "      background-color: #434B5C;\n",
              "      box-shadow: 0px 1px 3px 1px rgba(0, 0, 0, 0.15);\n",
              "      filter: drop-shadow(0px 1px 2px rgba(0, 0, 0, 0.3));\n",
              "      fill: #FFFFFF;\n",
              "    }\n",
              "  </style>\n",
              "\n",
              "      <script>\n",
              "        const buttonEl =\n",
              "          document.querySelector('#df-7d5779b1-be75-4720-8169-40044bf4468d button.colab-df-convert');\n",
              "        buttonEl.style.display =\n",
              "          google.colab.kernel.accessAllowed ? 'block' : 'none';\n",
              "\n",
              "        async function convertToInteractive(key) {\n",
              "          const element = document.querySelector('#df-7d5779b1-be75-4720-8169-40044bf4468d');\n",
              "          const dataTable =\n",
              "            await google.colab.kernel.invokeFunction('convertToInteractive',\n",
              "                                                     [key], {});\n",
              "          if (!dataTable) return;\n",
              "\n",
              "          const docLinkHtml = 'Like what you see? Visit the ' +\n",
              "            '<a target=\"_blank\" href=https://colab.research.google.com/notebooks/data_table.ipynb>data table notebook</a>'\n",
              "            + ' to learn more about interactive tables.';\n",
              "          element.innerHTML = '';\n",
              "          dataTable['output_type'] = 'display_data';\n",
              "          await google.colab.output.renderOutput(dataTable, element);\n",
              "          const docLink = document.createElement('div');\n",
              "          docLink.innerHTML = docLinkHtml;\n",
              "          element.appendChild(docLink);\n",
              "        }\n",
              "      </script>\n",
              "    </div>\n",
              "  </div>\n",
              "  "
            ]
          },
          "metadata": {},
          "execution_count": 19
        }
      ]
    },
    {
      "cell_type": "code",
      "source": [
        "unk_themes = ['Nanjing', 'Dialect', 'Southampton', 'The_Times', 'Immunology', 'Imamah_(Shia_doctrine)', 'Grape', 'United_States_dollar', 'Everton_F.C.',\n",
        "              'Hard_rock', 'Great_Plains', 'Biodiversity', 'Federal_Bureau_of_Investigation', 'Mary_(mother_of_Jesus)', 'Unknown', 'DevRev']"
      ],
      "metadata": {
        "id": "odA4U-YpRIvp"
      },
      "execution_count": null,
      "outputs": []
    },
    {
      "cell_type": "code",
      "source": [
        "from ast import literal_eval\n",
        "gen['GeneratedQuestions'] = gen['GeneratedQuestions'].apply(literal_eval)"
      ],
      "metadata": {
        "id": "eqcEFYWASLLP"
      },
      "execution_count": null,
      "outputs": []
    },
    {
      "cell_type": "code",
      "source": [
        "theme = 'Nanjing'\n",
        "gen_paras = gen[gen['Theme'] == theme]['Paragraph'].to_list()\n",
        "gen_qns = gen[gen['Theme'] == theme]['GeneratedQuestions'].to_list()"
      ],
      "metadata": {
        "id": "R_wFI9w5SMPh"
      },
      "execution_count": null,
      "outputs": []
    },
    {
      "cell_type": "code",
      "source": [
        "len(gen_paras)"
      ],
      "metadata": {
        "colab": {
          "base_uri": "https://localhost:8080/"
        },
        "id": "dBvFSUdLYEEp",
        "outputId": "df5dd4b3-297e-4c29-b3f3-62a0e00fdd73"
      },
      "execution_count": null,
      "outputs": [
        {
          "output_type": "execute_result",
          "data": {
            "text/plain": [
              "66"
            ]
          },
          "metadata": {},
          "execution_count": 23
        }
      ]
    },
    {
      "cell_type": "code",
      "source": [
        "idx = 0\n",
        "len(gen_qns[idx])"
      ],
      "metadata": {
        "colab": {
          "base_uri": "https://localhost:8080/"
        },
        "id": "WzLV8YuRXMrq",
        "outputId": "d77e7c9d-671f-43ed-bd4c-e2f389e9f7a4"
      },
      "execution_count": null,
      "outputs": [
        {
          "output_type": "execute_result",
          "data": {
            "text/plain": [
              "171"
            ]
          },
          "metadata": {},
          "execution_count": 24
        }
      ]
    },
    {
      "cell_type": "code",
      "source": [
        "result = reader(question = gen_qns[idx], context = [gen_paras[idx]] * len(gen_qns[idx]), batch_size = 32)"
      ],
      "metadata": {
        "id": "XzeS6boSVRI4"
      },
      "execution_count": null,
      "outputs": []
    },
    {
      "cell_type": "code",
      "source": [
        "gen_paras[idx]"
      ],
      "metadata": {
        "colab": {
          "base_uri": "https://localhost:8080/",
          "height": 175
        },
        "id": "8YHX31CSXQBQ",
        "outputId": "d7e32ebb-b8fb-46ab-b74f-4788eba180c9"
      },
      "execution_count": null,
      "outputs": [
        {
          "output_type": "execute_result",
          "data": {
            "text/plain": [
              "'Nanjing ( listen; Chinese: 南京, \"Southern Capital\") is the city situated in the heartland of lower Yangtze River region in China, which has long been a major centre of culture, education, research, politics, economy, transport networks and tourism. It is the capital city of Jiangsu province of People\\'s Republic of China and the second largest city in East China, with a total population of 8,216,100, and legally the capital of Republic of China which lost the mainland during the civil war. The city whose name means \"Southern Capital\" has a prominent place in Chinese history and culture, having served as the capitals of various Chinese dynasties, kingdoms and republican governments dating from the 3rd century AD to 1949. Prior to the advent of pinyin romanization, Nanjing\\'s city name was spelled as Nanking or Nankin. Nanjing has a number of other names, and some historical names are now used as names of districts of the city, and among them there is the name Jiangning (江寧), whose former character Jiang (江, River) is the former part of the name Jiangsu and latter character Ning (寧, simplified form 宁, Peace) is the short name of Nanjing. When being the capital of a state, for instance, ROC, Jing (京) is adopted as the abbreviation of Nanjing. Although as a city located in southern part of China becoming Chinese national capital as early as in Jin dynasty, the name Nanjing was designated to the city in Ming dynasty, about a thousand years later. Nanjing is particularly known as Jinling (金陵, literally meaning Gold Mountain) and the old name has been used since the Warring States Period in Zhou Dynasty.'"
            ],
            "application/vnd.google.colaboratory.intrinsic+json": {
              "type": "string"
            }
          },
          "metadata": {},
          "execution_count": 26
        }
      ]
    },
    {
      "cell_type": "code",
      "source": [
        "summary = dict()\n",
        "for i in range(len(gen_qns[idx])):\n",
        "  temp = [result[i]['answer'] for i in range(len(result))]\n",
        "  summary[gen_qns[idx][i]] = temp[i]"
      ],
      "metadata": {
        "id": "-fnCHf-pXiLh"
      },
      "execution_count": null,
      "outputs": []
    },
    {
      "cell_type": "code",
      "source": [
        "summary"
      ],
      "metadata": {
        "colab": {
          "base_uri": "https://localhost:8080/"
        },
        "collapsed": true,
        "id": "8_vhIHgAXlPS",
        "outputId": "41f6c413-000b-412c-9bb3-15580857de06"
      },
      "execution_count": null,
      "outputs": [
        {
          "output_type": "execute_result",
          "data": {
            "text/plain": [
              "{'What type of government has Nanjing served?': 'republican',\n",
              " \"What is Nanjing's short title?\": 'Ning',\n",
              " 'What dynasty became a capital of China in the late 1960s and early 1980s?': 'Jin',\n",
              " 'What are the past names used as for district names in Nanjing?': 'districts of the city',\n",
              " 'When did Nanjing become the capital?': 'Jin dynasty',\n",
              " 'What is now used as names of districts of the city?': 'Jiangning',\n",
              " 'Nanjing lost what to the civil war in China?': 'the mainland',\n",
              " 'The name of Nanjing would be what?': 'Southern Capital',\n",
              " 'For which period of time is the name Nanjing used as the name of the city?': 'Ming dynasty',\n",
              " 'What had Nanjing served as the capital of?': 'Chinese dynasties, kingdoms and republican governments',\n",
              " 'When being the capital of a state, what word is adopted as the abbreviation of Nanjing?': 'ROC, Jing',\n",
              " \"What part of the city is in the People's Republic of China?\": 'southern',\n",
              " 'What dynasty had the name Nanjing attributed to?': 'Ming dynasty',\n",
              " 'Along with politics, economy and economy, what has Nanjing been a major city hub?': 'transport networks and tourism',\n",
              " 'What word means \"Southern Capital\"?': 'Nanjing',\n",
              " 'What did the southern city in China begin to become in the Jin dynasty?': 'Chinese national capital',\n",
              " 'Which part of the name Jiangning is Nanjing?': 'Jiang (江, River) is the former part of the name Jiangsu',\n",
              " 'Previously, what were the two names of Nanjing in Chinese?': 'Nanking or Nankin',\n",
              " 'What century did Nanjing have various dynasties, kings and republican governments during?': '3rd',\n",
              " 'What did various dynasties served as?': 'capitals',\n",
              " 'When did pinyin romanization begin to make Nanjing an easier name for itself?': \"Nanjing's city name was spelled as Nanking or Nankin\",\n",
              " 'What historical names are used in Nanjing now?': 'districts of the city',\n",
              " 'Where did Chinas dynasties and monarchies get their money from?': 'Nanjing',\n",
              " 'In Chinese, what was the former character of Nanjing?': 'Jiang',\n",
              " \"What does Nanjing have in China's history and culture?\": 'The city whose name means \"Southern Capital\" has a prominent place',\n",
              " 'What part of the Yangtze River is Nanjing located in?': 'lower',\n",
              " \"What is Nanjing's Chinese version of the language?\": 'Southern Capital',\n",
              " 'When did the name Nanjing begin?': 'Ming dynasty',\n",
              " 'Nanjing is located in which region in China?': 'lower Yangtze River region',\n",
              " 'What is \"Nanjing\"?': 'Southern Capital',\n",
              " \"What is Nanjing's old name?\": 'Jinling',\n",
              " 'What character is Nanjing known for?': 'Ning',\n",
              " 'What is Nanjing\\'s definition of \"Southern Capital?\"': 'Chinese national capital',\n",
              " 'What does Nanjing rank among East China cities?': 'second largest',\n",
              " 'What area is Nanjing the second largest city in?': 'East China',\n",
              " 'Some historical names are now used as names of what in the city?': 'districts',\n",
              " 'The names Nanjing and Jing are both derived from what?': 'ROC',\n",
              " \"In which country are the city's abbreviations used?\": 'China',\n",
              " 'What years are shown as having been the capitals of various Chinese dynasties?': '3rd century AD to 1949',\n",
              " 'What was the original name of Nanjing?': 'Nanking or Nankin',\n",
              " \"Prior to pinyin romanization, what was Nanjing's city name spelled?\": 'Nanking or Nankin',\n",
              " 'What does the Old Name Nanjing use to describe the mountains nearby?': 'Jinling',\n",
              " 'What is the abbreviation of Nanjing?': 'Jing',\n",
              " 'What is the Chinese name of Nanjing?': 'Southern Capital',\n",
              " 'Along with economic development and culture, Nanjing is a major area for what?': 'transport networks and tourism',\n",
              " 'What part of China did Nanjing originally land in?': 'southern',\n",
              " 'Which country is Nanjing the capital of?': \"People's Republic of China\",\n",
              " 'What is the abbreviation of Nanjing used as the capital of a state?': 'ROC, Jing',\n",
              " 'What is the local dialect of Nanjing?': '南京',\n",
              " 'Which historic name today is Nanjing known for?': 'Jiangning',\n",
              " 'What other name do Nanjing have?': 'Southern Capital',\n",
              " 'What language is the city called, what do they refer to as the \"Southern Capital\"?': 'Chinese',\n",
              " 'When was Nanjing designated the capital?': 'Ming dynasty',\n",
              " \"What is the old name of Nanjing and the city has been recognized as the capital of the People's Republic of China?\": 'Jinling',\n",
              " 'Until what time did Nanjing begin to have a very familiar name?': '3rd century AD',\n",
              " 'What is the second largest city in East China?': 'Nanjing',\n",
              " \"What does 'Nanjing' mean in English?\": 'Southern Capital',\n",
              " 'What is the city name of Nanjing?': 'Southern Capital',\n",
              " 'What is the short name of Nanjing?': 'Jiangning',\n",
              " 'Prior to what period of time was Nanjing spelled Nanking or Nankin?': 'pinyin romanization',\n",
              " 'What other entity has used Nanjing as its capital?': 'Republic of China',\n",
              " 'When did China begin to have a republican government?': '3rd century AD to 1949',\n",
              " 'What does Nanjing stand for?': 'Southern Capital',\n",
              " 'What is the capital of Jiangsu?': 'Nanjing',\n",
              " \"What is Nanjing's name?\": 'Southern Capital',\n",
              " 'In what dynasty was Nanjing the capital of?': 'Ming',\n",
              " 'What is Jing used as?': 'Chinese national capital',\n",
              " 'Nanjing is the capital city of which republic?': \"People's Republic of China\",\n",
              " 'What is the capital city of Jiangsu?': 'Nanjing',\n",
              " 'What was the first known name of Nanjing before pinyin romanization?': 'Nanking or Nankin',\n",
              " 'What is Nanjing spelled as to the districts it is located in?': 'Southern Capital',\n",
              " 'What character of the city is the short name of Nanjing?': 'Ning',\n",
              " 'What is Nanjing the capital city of?': \"Jiangsu province of People's Republic of China\",\n",
              " 'What has Nanjing a prominent place in?': 'Chinese history and culture',\n",
              " 'What does Nanjing mean in English?': 'Southern Capital',\n",
              " 'What is the Chinese translation of the word \"Nanjing\"?': 'Southern Capital',\n",
              " 'In which river valley does Nanjing reside?': 'lower Yangtze River',\n",
              " \"What is Nanjing's total population?\": '8,216,100',\n",
              " 'The city of Nanjing served as the capitals of what?': 'Chinese dynasties, kingdoms and republican governments',\n",
              " \"What is the province of People's Republic of China called?\": 'Jiangsu',\n",
              " 'Where is Nanjing located?': 'heartland of lower Yangtze River region',\n",
              " 'What is another name for the capital of a state?': 'Jiangning',\n",
              " 'What area has Nanjing been a center of for most of its history?': 'lower Yangtze River region',\n",
              " 'Along with politics, business, religion and politics, what other major focus has Nanjing had?': 'research, politics, economy, transport networks and tourism',\n",
              " 'What are the Chinese translations of Nanjing?': 'Southern Capital\"',\n",
              " 'When was the Nanjing name used?': 'Ming dynasty',\n",
              " 'What country lost the mainland during the civil war?': 'Republic of China',\n",
              " 'Along with culture, politics, and transport networks, what was Nanjing known for for since it became the capital of the Republic of China?': 'tourism',\n",
              " 'What is the number of people living in Nanjing?': '8,216,100',\n",
              " 'What part of China is the city of Nanjing located in?': 'southern',\n",
              " 'What has a long history in China?': 'The city whose name means \"Southern Capital',\n",
              " 'What are used as names of districts in Nanjing?': 'historical names',\n",
              " 'What does Jinling mean?': 'Gold Mountain',\n",
              " 'What river is Nanjing located in?': 'Yangtze River',\n",
              " 'In which dynasty did the old name Nanjing come from?': 'Zhou Dynasty',\n",
              " 'Where does Nanjing rank by area of East China?': 'second largest',\n",
              " 'What has Nanjing always been known for?': 'culture, education, research, politics, economy, transport networks and tourism',\n",
              " 'Nanjing has a prominent place in what aspect of Chinese history and culture?': 'Southern Capital',\n",
              " \"What other names are used to determine Nanjing's city status?\": 'Nanking or Nankin',\n",
              " 'In what region of China is Nanjing located?': 'lower Yangtze River region',\n",
              " 'What event happened in Nanjing in which the mainland was captured?': 'the civil war',\n",
              " 'When was the name Nanjing designated in the Ming dynasty?': 'about a thousand years later',\n",
              " \"What name change changed Nanjing's name?\": 'pinyin romanization',\n",
              " 'Along with the economy, politics and transportation networks what is Nanjing well known for?': 'tourism',\n",
              " 'Apart from Chinese dynasties and Kingdoms, what is another political activity of Nanjing?': 'republican governments',\n",
              " 'In what century has Nanjing been the capital of various Chinese dynasties and kingdoms?': '3rd',\n",
              " 'What nation is Nanjing considered a capital of?': \"People's Republic of China\",\n",
              " 'What is the abbreviation for the capital of a state in China?': 'ROC, Jing',\n",
              " 'Nanjing has served as the capitals of various Chinese dynasties and whom?': 'kingdoms and republican governments',\n",
              " 'Where in the Lower Yangtze River region is Nanjing?': 'the heartland of lower Yangtze River region in China',\n",
              " 'What is Ning?': 'Peace',\n",
              " 'What is Nanjing?': 'Southern Capital',\n",
              " 'What industry does Nanjing have?': 'transport',\n",
              " 'What is the total population of Nanjing?': '8,216,100',\n",
              " 'What was the name Jiangning previously?': 'Jiang',\n",
              " 'When is Nanjing the capital of the ROC?': 'Jin dynasty',\n",
              " 'In what arena has Nanjing been a prominent center of for the past 500 years?': 'transport networks and tourism',\n",
              " 'Nanjing has been a major centre for what?': 'culture, education, research, politics, economy, transport networks and tourism',\n",
              " 'Prior to pinyin romanization how was Nanking and Nankin spelled?': 'Southern Capital',\n",
              " 'What was the name of the local government of the Republic of China during the civil war?': 'the capital of Republic of China which lost the mainland',\n",
              " 'Who can make Nanjing their capital?': \"People's Republic of China\",\n",
              " 'What was Nanjing considered when it became as early as the Jin dynasty?': 'Chinese national capital',\n",
              " 'What part of China is Nanjing located in?': 'southern',\n",
              " 'What is the name of the nation in which Nanjing is the capital?': \"People's Republic of China\",\n",
              " 'What is Nanjing known for?': 'Southern Capital',\n",
              " 'How many other names does Nanjing have?': 'a number of other names',\n",
              " 'What is the term for Nanjing in Chinese?': 'Southern Capital',\n",
              " 'What river was the former character of the name Jiang?': 'Yangtze River',\n",
              " 'What does Nanjing mean to other than Southeast?': 'Southern Capital',\n",
              " 'When was Nanjing designated as the capital of the Chinese?': 'Ming dynasty',\n",
              " 'What is the abbreviation for Nanjing when it is the capital of a state?': 'ROC, Jing',\n",
              " 'Where is Nanjing a capital of?': \"Jiangsu province of People's Republic of China\",\n",
              " 'In what dynasty was the city called Nanjing originally named?': 'Ming',\n",
              " 'Which nation is Nanjing the capital of?': \"People's Republic of China\",\n",
              " 'How large is Nanjing in East China?': 'second largest',\n",
              " 'What has Nanjing long been a major centre of in China?': 'culture, education, research, politics, economy, transport networks and tourism',\n",
              " 'What dynasty had Nanjing become the capital of China?': 'Jin dynasty',\n",
              " 'What style of character is the short term used for Nanjing?': 'Ning',\n",
              " 'What is Nanjing\\'s abbreviation for China\\'s \"Southern Capital\"?': 'Jing',\n",
              " \"What is Nanjing's ranking as the largest city in East China?\": 'second',\n",
              " 'What did the Republic of China lose during the civil war?': 'the mainland',\n",
              " 'What is the name \"Jing\"?': 'ROC',\n",
              " 'How many different names does Nanjing have?': '8,216,100',\n",
              " \"What term is used to describe the city's name?\": 'Southern Capital',\n",
              " 'What was Nanjing born in?': 'Nanjing',\n",
              " 'What is the Chinese name for the city?': 'Southern Capital',\n",
              " 'What is the former character of the name Jiangsu?': 'Jiang',\n",
              " 'Along with dynasties and republican governments, what other category of government had a large influence on Nanjing?': 'kingdoms',\n",
              " 'What is the capital of Nanjing?': \"Jiangsu province of People's Republic of China\",\n",
              " 'What is Nanjing an important centre of?': 'culture, education, research, politics, economy, transport networks and tourism',\n",
              " 'Where does the name Nanjing belong in modern Chinese history?': 'The city whose name means \"Southern Capital\" has a prominent place',\n",
              " 'What country is Nanjing a part of?': 'China',\n",
              " 'What means Southern capital in Chinese?': 'Nanjing',\n",
              " 'What was the former part of Jiangsu?': 'Jiang',\n",
              " 'What is Nanjing known for besides culture?': 'education, research, politics, economy, transport networks and tourism',\n",
              " 'What has Nanjing been a major centre for over the centuries?': 'culture, education, research, politics, economy, transport networks and tourism',\n",
              " 'Why is Nanjing known as the \"Southern Capital\"?': 'prominent place in Chinese history and culture',\n",
              " 'What does the name of Nanjing mean?': 'Southern Capital',\n",
              " 'In which dynasty did Nanjing become the capital?': 'Jin dynasty',\n",
              " 'What is the shortened name of Nanjing?': 'Southern Capital',\n",
              " \"What's Nanjing's other name?\": 'Jiangning',\n",
              " 'What kind of government was the capital of Nanjing during the 3rd century AD?': 'republican',\n",
              " \"What was Nanjing's city name before pinyin romanization?\": 'Nanking or Nankin',\n",
              " 'What is the capital of Jiangsu province?': 'Nanjing',\n",
              " 'What means \"Southern Capital\" in Chinese?': 'Nanjing',\n",
              " 'What caused Nanjing to be the capital of the Republic of China?': 'civil war',\n",
              " 'What is the name of the city of Jiangsu?': 'Nanjing',\n",
              " 'What does the term Nanjing, \"Southern Capital\" mean?': 'Chinese national capital',\n",
              " 'What is the name given to Nanjing when it is not the capital?': 'Southern Capital',\n",
              " \"What is Nanjing's special name?\": 'Jinling',\n",
              " 'What is Nanjing known as?': 'Southern Capital'}"
            ]
          },
          "metadata": {},
          "execution_count": 28
        }
      ]
    },
    {
      "cell_type": "code",
      "source": [],
      "metadata": {
        "id": "QbTLUuR8XoP2"
      },
      "execution_count": null,
      "outputs": []
    }
  ],
  "metadata": {
    "colab": {
      "provenance": []
    },
    "language_info": {
      "name": "python"
    },
    "kernelspec": {
      "name": "python3",
      "display_name": "Python 3"
    },
    "gpuClass": "standard"
  },
  "nbformat": 4,
  "nbformat_minor": 0
}